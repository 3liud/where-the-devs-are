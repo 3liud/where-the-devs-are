{
 "cells": [
  {
   "cell_type": "code",
   "execution_count": null,
   "id": "Hbol",
   "metadata": {},
   "outputs": [],
   "source": [
    "# marimo\n",
    "import marimo as mo"
   ]
  },
  {
   "cell_type": "code",
   "execution_count": null,
   "id": "MJUe",
   "metadata": {},
   "outputs": [],
   "source": [
    "import pandas as pd\n",
    "\n",
    "pd.set_option(\"display.max_columns\", None)\n",
    "pd.set_option(\"display.max_rows\", None)"
   ]
  },
  {
   "cell_type": "markdown",
   "id": "vblA",
   "metadata": {},
   "source": [
    "# Analyze Stackoverflow survey data focusing on locations\n",
    "using the /users endpoint"
   ]
  },
  {
   "cell_type": "code",
   "execution_count": null,
   "id": "bkHC",
   "metadata": {},
   "outputs": [],
   "source": [
    "data = pd.read_csv(\"data/survey_results_public.csv\")\n",
    "data.head()"
   ]
  },
  {
   "cell_type": "code",
   "execution_count": null,
   "id": "lEQa",
   "metadata": {},
   "outputs": [],
   "source": [
    "data.columns.to_list()"
   ]
  },
  {
   "cell_type": "code",
   "execution_count": null,
   "id": "PKri",
   "metadata": {},
   "outputs": [],
   "source": [
    "# select relevant columns for the analysis\n",
    "cols = [\n",
    "    \"Country\",\n",
    "    \"LanguageHaveWorkedWith\",\n",
    "    \"LanguageWantToWorkWith\",\n",
    "    \"YearsCodePro\",\n",
    "    \"DevType\",\n",
    "    \"Employment\",\n",
    "]\n",
    "\n",
    "devs_df = data[cols].copy()\n",
    "\n",
    "# drop rows with missing country or main language info\n",
    "devs_df.dropna(subset=[\"Country\", \"LanguageHaveWorkedWith\"], inplace=True)\n",
    "\n",
    "devs_df.head()"
   ]
  },
  {
   "cell_type": "code",
   "execution_count": null,
   "id": "Xref",
   "metadata": {},
   "outputs": [],
   "source": [
    "devs_df.YearsCodePro.unique()"
   ]
  },
  {
   "cell_type": "code",
   "execution_count": null,
   "id": "SFPL",
   "metadata": {},
   "outputs": [],
   "source": [
    "# clean and convert years of experience\n",
    "def clean_experience(x):\n",
    "    if x == \"Less than 1 year\":\n",
    "        return 0.5\n",
    "    elif x == \"More than 50 years\":\n",
    "        return 51\n",
    "    try:\n",
    "        return float(X)\n",
    "    except:\n",
    "        return None\n",
    "\n",
    "\n",
    "devs_df[\"YearsCodePro\"] = devs_df[\"YearsCodePro\"].apply(clean_experience)\n",
    "\n",
    "# drop rows where experience could not be converted\n",
    "devs_df.dropna(subset=[\"YearsCodePro\"], inplace=True)\n",
    "\n",
    "devs_df[\"YearsCodePro\"].describe()"
   ]
  },
  {
   "cell_type": "code",
   "execution_count": null,
   "id": "BYtC",
   "metadata": {},
   "outputs": [],
   "source": [
    "# Create a sorted list of unique countries\n",
    "country_list = sorted(devs_df[\"Country\"].unique())\n",
    "\n",
    "# Dropdown menu for selecting a country\n",
    "country_filter = mo.ui.dropdown(\n",
    "    options=country_list,\n",
    "    label=\"Select Country\",\n",
    "    value=\"Kenya\" if \"Kenya\" in country_list else country_list[0],\n",
    ")\n",
    "\n",
    "# Show the widget\n",
    "country_filter\n"
   ]
  },
  {
   "cell_type": "code",
   "execution_count": null,
   "id": "RGSE",
   "metadata": {},
   "outputs": [],
   "source": [
    "# filter dataset based on dropdown selection\n",
    "filtered_df = devs_df[devs_df[\"Country\"]== country_filter.value]\n",
    "filtered_df.head(10)"
   ]
  },
  {
   "cell_type": "code",
   "execution_count": null,
   "id": "Kclp",
   "metadata": {},
   "outputs": [],
   "source": [
    "# language list\n",
    "from itertools import chain\n",
    "\n",
    "language_series = devs_df[\"LanguageHaveWorkedWith\"].dropna().apply(lambda x: [lang.strip() for lang in x.split(\";\")])\n",
    "all_languages = sorted(set(chain.from_iterable(language_series)))\n",
    "\n",
    "language_filter = mo.ui.dropdown(\n",
    "    options=all_languages,\n",
    "    label=\"Filter by Language\",\n",
    "    value=\"Python\" if \"Python\" in all_languages else all_languages[0]\n",
    "\n",
    ")\n",
    "language_filter"
   ]
  },
  {
   "cell_type": "code",
   "execution_count": null,
   "id": "emfo",
   "metadata": {},
   "outputs": [],
   "source": []
  }
 ],
 "metadata": {},
 "nbformat": 4,
 "nbformat_minor": 5
}
